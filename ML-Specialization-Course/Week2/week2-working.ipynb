{
 "cells": [
  {
   "cell_type": "code",
   "execution_count": null,
   "metadata": {},
   "outputs": [],
   "source": [
    "import copy, math\n",
    "import numpy as np\n",
    "import matplotlib.pyplot as plt\n",
    "plt.style.use('./deeplearning.mplstyle')\n",
    "np.set_printoptions(precision=2) # reduce the precision of printed numbers to 2 digits"
   ]
  },
  {
   "cell_type": "markdown",
   "metadata": {},
   "source": [
    "## Housing Price Prediction ##\n",
    "We will use the example of housing price prediction. The training dataset contains three examples with four features (size, bedrooms, floors and, age) shown in the table below.\n",
    "\n",
    "| Size (sqft) | Number of Bedrooms  | Number of floors | Age of  Home | Price (1000s dollars)  |   \n",
    "| ----------------| ------------------- |----------------- |--------------|-------------- |  \n",
    "| 2104            | 5                   | 1                | 45           | 460           |  \n",
    "| 1416            | 3                   | 2                | 40           | 232           |  \n",
    "| 852             | 2                   | 1                | 35           | 178           |  \n",
    "\n"
   ]
  },
  {
   "cell_type": "code",
   "execution_count": null,
   "metadata": {},
   "outputs": [],
   "source": [
    "X_train = np.array([[2104, 5, 1, 45], [1416, 3, 2, 40], [852, 2, 1, 35]])\n",
    "y_train = np.array([460, 232, 178])\n",
    "\n",
    "print(f\"X shape: {X_train.shape}, X type: {type(X_train)}\")\n",
    "print(f\"y shape: {y_train.shape}, y type: {type(y_train)}\")"
   ]
  },
  {
   "cell_type": "markdown",
   "metadata": {},
   "source": [
    "**Parameter vector w, b** <br>\n",
    "\n",
    "* $\\mathbf{w}$ is a vector with $n$ elements.\n",
    "  - Each element contains the parameter associated with one feature.\n",
    "  - in our dataset, n is 4.\n",
    "  - notionally, we draw this as a column vector\n",
    "\n",
    "$$\\mathbf{w} = \\begin{pmatrix}\n",
    "w_0 \\\\ \n",
    "w_1 \\\\\n",
    "\\cdots\\\\\n",
    "w_{n-1}\n",
    "\\end{pmatrix}\n",
    "$$\n",
    "* $b$ is a scalar parameter.  "
   ]
  },
  {
   "cell_type": "code",
   "execution_count": null,
   "metadata": {},
   "outputs": [],
   "source": [
    "b_init = 785.1811367994083\n",
    "w_init = np.array([ 0.39133535, 18.75376741, -53.36032453, -26.42131618])\n",
    "print(f\"w_init shape: {w_init.shape}, b_init type: {type(b_init)}\")"
   ]
  },
  {
   "cell_type": "markdown",
   "metadata": {},
   "source": [
    "## Model Prediction with Multiple Variables ##"
   ]
  },
  {
   "cell_type": "markdown",
   "metadata": {},
   "source": [
    "**Single Prediction element by element**"
   ]
  },
  {
   "cell_type": "code",
   "execution_count": null,
   "metadata": {},
   "outputs": [],
   "source": [
    "def predict_single_loop(x, w, b):\n",
    "    n = x.shape[0]\n",
    "    y = 0\n",
    "    for i in range(n):\n",
    "        y_i = x[i] * w[i]\n",
    "        y = y + y_i\n",
    "    y = y + b\n",
    "    return y\n",
    "\n",
    "# get one row from the training data\n",
    "x_vec = X_train[0]\n",
    "print(f\"x_vec: {x_vec}\")\n",
    "\n",
    "# make a prediction\n",
    "f_wb = predict_single_loop(x_vec, w_init, b_init)\n",
    "print(f\"prediction: {f_wb}\")"
   ]
  },
  {
   "cell_type": "code",
   "execution_count": null,
   "metadata": {},
   "outputs": [],
   "source": [
    "def predict(x, w, b):\n",
    "    y = np.dot(x, w) + b\n",
    "    return y\n",
    "\n",
    "# get one row from the training data\n",
    "x_vec = X_train[0]\n",
    "print(f\"x_vec: {x_vec}\")\n",
    "\n",
    "# make a prediction\n",
    "f_wb = predict(x_vec, w_init, b_init)\n",
    "print(f\"prediction: {f_wb}\")"
   ]
  },
  {
   "cell_type": "markdown",
   "metadata": {},
   "source": [
    "## Compute Cost With Multiple Variables\n",
    "The equation for the cost function with multiple variables $J(\\mathbf{w},b)$ is:\n",
    "$$J(\\mathbf{w},b) = \\frac{1}{2m} \\sum\\limits_{i = 0}^{m-1} (f_{\\mathbf{w},b}(\\mathbf{x}^{(i)}) - y^{(i)})^2 \\tag{3}$$ \n",
    "where:\n",
    "$$ f_{\\mathbf{w},b}(\\mathbf{x}^{(i)}) = \\mathbf{w} \\cdot \\mathbf{x}^{(i)} + b  \\tag{4} $$ \n",
    "\n",
    "\n",
    "In contrast to previous labs, $\\mathbf{w}$ and $\\mathbf{x}^{(i)}$ are vectors rather than scalars supporting multiple features."
   ]
  },
  {
   "cell_type": "code",
   "execution_count": null,
   "metadata": {},
   "outputs": [],
   "source": [
    "def compute_cost(X, y, w, b):\n",
    "    j_w_b = 0\n",
    "    for i in range(len(X)):\n",
    "        j_w_b += (w * X[i] + b - y[i]) ** 2\n",
    "    return j_w_b / (2 * len(X))\n",
    "\n",
    "cost = compute_cost(X_train, y_train, w_init, b_init)\n",
    "print(f'Cost at optimal w : {cost}')"
   ]
  },
  {
   "cell_type": "markdown",
   "metadata": {},
   "source": [
    "## Gradient Descent With Multiple Variables\n",
    "Gradient descent for multiple variables:\n",
    "\n",
    "$$\\begin{align*} \\text{repeat}&\\text{ until convergence:} \\; \\lbrace \\newline\\;\n",
    "& w_j = w_j -  \\alpha \\frac{\\partial J(\\mathbf{w},b)}{\\partial w_j} \\tag{5}  \\; & \\text{for j = 0..n-1}\\newline\n",
    "&b\\ \\ = b -  \\alpha \\frac{\\partial J(\\mathbf{w},b)}{\\partial b}  \\newline \\rbrace\n",
    "\\end{align*}$$\n",
    "\n",
    "where, n is the number of features, parameters $w_j$,  $b$, are updated simultaneously and where  \n",
    "\n",
    "$$\n",
    "\\begin{align}\n",
    "\\frac{\\partial J(\\mathbf{w},b)}{\\partial w_j}  &= \\frac{1}{m} \\sum\\limits_{i = 0}^{m-1} (f_{\\mathbf{w},b}(\\mathbf{x}^{(i)}) - y^{(i)})x_{j}^{(i)} \\tag{6}  \\\\\n",
    "\\frac{\\partial J(\\mathbf{w},b)}{\\partial b}  &= \\frac{1}{m} \\sum\\limits_{i = 0}^{m-1} (f_{\\mathbf{w},b}(\\mathbf{x}^{(i)}) - y^{(i)}) \\tag{7}\n",
    "\\end{align}\n",
    "$$\n",
    "* m is the number of training examples in the data set\n",
    "\n",
    "    \n",
    "*  $f_{\\mathbf{w},b}(\\mathbf{x}^{(i)})$ is the model's prediction, while $y^{(i)}$ is the target value"
   ]
  },
  {
   "cell_type": "markdown",
   "metadata": {},
   "source": [
    "## Feature Scaling\n",
    "If features scale greatly, then gradient descent will be slow. To speed up gradient descent, it is important to scale the features. This is done using the following techniques: <br>\n",
    "\n",
    "**Mean Normalization** <br>\n",
    "In the housing prediction example, let's consider the features $x_1$ to be the size of the house in sq.ft and $x_2$ to be the number of bedrooms. Typical valies for $x_1$ range from 300 to 2000 and $x_2$ from 1 to 5. To use *mean normalization* we compute the mean for the factors $\\mu$ and subtract it from the factor $x_1$ and $x_2. <br>\n",
    "\n",
    "$x_1$ = $\\frac{x_1 - \\mu_1}{max - min}$<br>\n",
    "$x_2$ = $\\frac{x_2 - \\mu_2}{max - min}$<br>\n",
    "\n",
    "**Z-score Normalization** <br>\n",
    "Instead of using mean, we can use the z-score. The z-score is the number of standard deviations by which the value of a data point is above the mean value of what is being observed. This is done using the following formula: <br>\n",
    "\n",
    "$x_1$ = $\\frac{x_1 - \\mu_1}{\\sigma}$<br>\n",
    "$x_2$ = $\\frac{x_2 - \\mu_2}{\\sigma}$<br>\n",
    "\n",
    "\n"
   ]
  },
  {
   "cell_type": "markdown",
   "metadata": {},
   "source": [
    "## Feature Engineering\n",
    "Using intution to design new features by transforming or combining original features. Example, say we have two features $x_1$ and $x_2$ and we want to combine them into a new feature $x_3$ by taking the product of $x_1$ and $x_2$ and then using $x_3$ to create the model, we are using feature engineering.\n",
    "\n",
    "$x_3$ = $x_1$ * $x_2$\n",
    "\n",
    "$f_{\\mathbf{w},b}(x)$ = $w_1x_1 + w_2x_2 + w_3x_3+ b$"
   ]
  },
  {
   "cell_type": "markdown",
   "metadata": {},
   "source": [
    "## Polynomial Features and Regression\n",
    "What if your features/data are non-linear or are combinations of features? For example,  Housing prices do not tend to be linear with living area but penalize very small or very large houses resulting in the curves shown in the graphic above. How can we use the machinery of linear regression to fit this curve? Recall, the 'machinery' we have is the ability to modify the parameters $\\mathbf{w}$, $\\mathbf{b}$ in (1) to 'fit' the equation to the training data. However, no amount of adjusting of $\\mathbf{w}$,$\\mathbf{b}$ in (1) will achieve a fit to a non-linear curve."
   ]
  },
  {
   "cell_type": "code",
   "execution_count": null,
   "metadata": {},
   "outputs": [],
   "source": [
    "# create target data\n",
    "x = np.arange(0, 20, 1)\n",
    "y = 1 + x**2\n",
    "X = x.reshape(-1, 1)\n",
    "\n",
    "print(f\"x= {x}\")\n",
    "print(f\"y= {y}\")\n",
    "print(f\"X= {X}\")\n",
    "\n",
    "from lab_utils_multi import run_gradient_descent_feng\n",
    "model_w, model_b = run_gradient_descent_feng(X, y, iterations=1000, alpha=1e-2)\n",
    "f_w_b = np.dot(X, model_w) + model_b\n",
    "\n",
    "print(f\"model_w= {model_w}\")\n",
    "print(f\"model_b= {model_b}\")\n",
    "print(f\"f_w_b= {f_w_b}\")\n",
    "\n",
    "plt.scatter(x, y, marker='o', c='r', label='Actual values'); plt.title('no feature engineering')\n",
    "plt.plot(x, f_w_b, label='Predicted values'); plt.legend()\n",
    "plt.show()"
   ]
  },
  {
   "cell_type": "markdown",
   "metadata": {},
   "source": [
    "It is not a great fit. What is needed is something like $y= w_0x_0^2 + b$, or a **polynomial feature**.\n",
    "To accomplish this, you can modify the *input data* to *engineer* the needed features. If you swap the original data with a version that squares the $x$ value, then you can achieve $y= w_0x_0^2 + b$. Let's try it. Swap `X` for `X**2` below:"
   ]
  },
  {
   "cell_type": "code",
   "execution_count": 14,
   "metadata": {},
   "outputs": [
    {
     "name": "stdout",
     "output_type": "stream",
     "text": [
      "x= [ 0  1  2  3  4  5  6  7  8  9 10 11 12 13 14 15 16 17 18 19]\n",
      "y= [  1   2   5  10  17  26  37  50  65  82 101 122 145 170 197 226 257 290\n",
      " 325 362]\n",
      "X= [[  0]\n",
      " [  1]\n",
      " [  4]\n",
      " [  9]\n",
      " [ 16]\n",
      " [ 25]\n",
      " [ 36]\n",
      " [ 49]\n",
      " [ 64]\n",
      " [ 81]\n",
      " [100]\n",
      " [121]\n",
      " [144]\n",
      " [169]\n",
      " [196]\n",
      " [225]\n",
      " [256]\n",
      " [289]\n",
      " [324]\n",
      " [361]]\n",
      "Iteration         0, Cost: 7.32922e+03\n",
      "Iteration      1000, Cost: 2.24844e-01\n",
      "Iteration      2000, Cost: 2.22795e-01\n",
      "Iteration      3000, Cost: 2.20764e-01\n",
      "Iteration      4000, Cost: 2.18752e-01\n",
      "Iteration      5000, Cost: 2.16758e-01\n",
      "Iteration      6000, Cost: 2.14782e-01\n",
      "Iteration      7000, Cost: 2.12824e-01\n",
      "Iteration      8000, Cost: 2.10884e-01\n",
      "Iteration      9000, Cost: 2.08962e-01\n",
      "w,b found by gradient descent: w: [1.], b: 0.0490\n",
      "model_w= [1.]\n",
      "model_b= 0.04896443659681639\n",
      "f_w_b= [4.90e-02 1.05e+00 4.07e+00 9.09e+00 1.61e+01 2.52e+01 3.62e+01 4.93e+01\n",
      " 6.43e+01 8.14e+01 1.00e+02 1.22e+02 1.45e+02 1.70e+02 1.97e+02 2.26e+02\n",
      " 2.57e+02 2.90e+02 3.25e+02 3.63e+02]\n"
     ]
    },
    {
     "data": {
      "image/png": "[encoded data removed]",
      "text/plain": [
       "<Figure size 640x480 with 1 Axes>"
      ]
     },
     "metadata": {},
     "output_type": "display_data"
    }
   ],
   "source": [
    "# create target data\n",
    "x = np.arange(0, 20, 1)\n",
    "y = 1 + x**2 # unknown\n",
    "X = x**2 # <-- feature engineering\n",
    "X = X.reshape(-1, 1)\n",
    "\n",
    "print(f\"x= {x}\")\n",
    "print(f\"y= {y}\")\n",
    "print(f\"X= {X}\")\n",
    "\n",
    "from lab_utils_multi import run_gradient_descent_feng\n",
    "model_w, model_b = run_gradient_descent_feng(X, y, iterations=10000, alpha=1e-5)\n",
    "f_w_b = np.dot(X, model_w) + model_b\n",
    "\n",
    "print(f\"model_w= {model_w}\")\n",
    "print(f\"model_b= {model_b}\")\n",
    "print(f\"f_w_b= {f_w_b}\")\n",
    "\n",
    "plt.scatter(x, y, marker='o', c='r', label='Actual values'); plt.title('Added engineered feature')\n",
    "plt.plot(x, f_w_b, label='Predicted values'); plt.legend()\n",
    "plt.show()"
   ]
  }
 ],
 "metadata": {
  "kernelspec": {
   "display_name": ".venv",
   "language": "python",
   "name": "python3"
  },
  "language_info": {
   "codemirror_mode": {
    "name": "ipython",
    "version": 3
   },
   "file_extension": ".py",
   "mimetype": "text/x-python",
   "name": "python",
   "nbconvert_exporter": "python",
   "pygments_lexer": "ipython3",
   "version": "3.11.8"
  }
 },
 "nbformat": 4,
 "nbformat_minor": 2
}
